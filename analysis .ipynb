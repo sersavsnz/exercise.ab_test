{
 "cells": [
  {
   "cell_type": "markdown",
   "id": "robust-valentine",
   "metadata": {},
   "source": [
    "# Case Study Data Scientist for Product\n",
    "\n",
    "## Note\n",
    "This test assignment was given to me at the second stage of thes interview with one of the German companies. It followed by one hour discussion. I have successfully passed it and was offered a job position. \n",
    "\n",
    "## The data\n",
    "\n",
    "We provide you some dummy data to provide an AB test analysis on. Even though the data is synthetically generated, it is representative of what we are dealing with in reality. However in this case study we anaylze only a tiny subset of metrics we are interested in and the amount of data provided is only a fraction of what we are actually working with.\n",
    "\n",
    "We consider a hypothetical AB test setup which resulted in the data you find in [data/session_data.csv](./data).\n",
    "\n",
    "The fields in that csv file are:\n",
    "\n",
    "- *session_id*: unique identifier of a user session.\n",
    "- *variant_id*: identifier of the test group the session was assigned to. Values are 0 and 1. A value of 0 means the session was assigned to the control group, i.e. the user was provided the status quo of our website, without the new feature added. A value of 1 means the session was assigned to the test group, i.e. the new feature was activated. It may be helpful to illustrate this with a naive example: If the feature corresponds to change of the color of a button on the website from blue to green, then all sessions with variant_id 0 will see a blue button, while all sessions with variant_id 1 see a green button.\n",
    "- *conversion*: Identifies if a session resulted in a subscription by the user. 0 means no subscription, 1 means the user subscripbed within the session.\n",
    "- *characters_translated*: Total number of characters the user has translated within the session.\n",
    "\n",
    "## Your tasks\n",
    "\n",
    "1. Based on the data described in the previous section, we ask you to provide a manual analysis of the data. Imagine the following szenario: We have run the AB test for a while and provide you with the data we collected so far in order to suggest an action point to your Data Science Colleagues. Is it helping our business and we should accept it (i.e. release it as the new default)? Should we reject it? Should we extend the testing period? \n",
    "\n",
    "    As mentioned above, our production code for AB testing is based on Python. Therefore we would like you to use Python for your solution of this task (preferably Python 3). All your code should be placed within this directory.\n",
    "    In terms of presentation of results, we use Jupyter Notebook for our analyses since it also works great for providing a presentation of the results to techincal colleagues along with the code. If you prefer something else, that's also fine. What's important to us is that we can easily follow your thinking and conclusions and your code is well comprehensible. Please provide all the code that is required to perform your analysis.\n",
    "    As a guideline: If you are comfortable with the topic of AB testing this task can be completed within one or two hours. \n",
    "\n",
    "    For Bonus Points: In the file [INSTRUCTIONS.md](./INSTRUCTIONS.md), please provide instructions for us in order to execute the code you provided in order to reproduce your analysis. If you like it's fine to base this on a tool like Anaconda, poetry, Docker, make, etc.. Main aspect is that it should be easy for us to reproduce your results.\n",
    "\n",
    "\n",
    "2. So far we looked at 2 metrics. Which 3 other metrics would you include in the analysis to measure the impact of a change? Please give reasons for your choice. You can provide your answer in the file [task2.txt](./task2.txt)."
   ]
  },
  {
   "cell_type": "code",
   "execution_count": 1,
   "id": "offshore-bachelor",
   "metadata": {},
   "outputs": [],
   "source": [
    "import pandas as pd\n",
    "import numpy as np\n",
    "import matplotlib.pyplot as plt\n",
    "import seaborn as sns\n",
    "sns.set()\n",
    "\n",
    "from scipy.stats import norm, chi2_contingency, chi2\n"
   ]
  },
  {
   "cell_type": "code",
   "execution_count": 2,
   "id": "excessive-antibody",
   "metadata": {},
   "outputs": [
    {
     "data": {
      "text/html": [
       "<div>\n",
       "<style scoped>\n",
       "    .dataframe tbody tr th:only-of-type {\n",
       "        vertical-align: middle;\n",
       "    }\n",
       "\n",
       "    .dataframe tbody tr th {\n",
       "        vertical-align: top;\n",
       "    }\n",
       "\n",
       "    .dataframe thead th {\n",
       "        text-align: right;\n",
       "    }\n",
       "</style>\n",
       "<table border=\"1\" class=\"dataframe\">\n",
       "  <thead>\n",
       "    <tr style=\"text-align: right;\">\n",
       "      <th></th>\n",
       "      <th>Session_ID</th>\n",
       "      <th>Variant_ID</th>\n",
       "      <th>Conversion</th>\n",
       "      <th>Characters_Translated</th>\n",
       "    </tr>\n",
       "  </thead>\n",
       "  <tbody>\n",
       "    <tr>\n",
       "      <th>0</th>\n",
       "      <td>MSLAOFLDF</td>\n",
       "      <td>1</td>\n",
       "      <td>0</td>\n",
       "      <td>725</td>\n",
       "    </tr>\n",
       "    <tr>\n",
       "      <th>1</th>\n",
       "      <td>UGUAXDOAT</td>\n",
       "      <td>1</td>\n",
       "      <td>0</td>\n",
       "      <td>66</td>\n",
       "    </tr>\n",
       "    <tr>\n",
       "      <th>2</th>\n",
       "      <td>FLKCLRVYV</td>\n",
       "      <td>0</td>\n",
       "      <td>0</td>\n",
       "      <td>11</td>\n",
       "    </tr>\n",
       "    <tr>\n",
       "      <th>3</th>\n",
       "      <td>QJXUYKXRI</td>\n",
       "      <td>0</td>\n",
       "      <td>0</td>\n",
       "      <td>209</td>\n",
       "    </tr>\n",
       "    <tr>\n",
       "      <th>4</th>\n",
       "      <td>SIHLAZXVF</td>\n",
       "      <td>0</td>\n",
       "      <td>0</td>\n",
       "      <td>1</td>\n",
       "    </tr>\n",
       "  </tbody>\n",
       "</table>\n",
       "</div>"
      ],
      "text/plain": [
       "  Session_ID  Variant_ID  Conversion  Characters_Translated\n",
       "0  MSLAOFLDF           1           0                    725\n",
       "1  UGUAXDOAT           1           0                     66\n",
       "2  FLKCLRVYV           0           0                     11\n",
       "3  QJXUYKXRI           0           0                    209\n",
       "4  SIHLAZXVF           0           0                      1"
      ]
     },
     "execution_count": 2,
     "metadata": {},
     "output_type": "execute_result"
    }
   ],
   "source": [
    "# Load the data\n",
    "data_path = './data/session_data.csv'\n",
    "df = pd.read_csv(data_path)\n",
    "df.columns = ['Session_ID', 'Variant_ID', 'Conversion', 'Characters_Translated']\n",
    "df.head()"
   ]
  },
  {
   "cell_type": "markdown",
   "id": "christian-industry",
   "metadata": {},
   "source": [
    "# Exploratory Data Analysis"
   ]
  },
  {
   "cell_type": "code",
   "execution_count": 3,
   "id": "coordinated-script",
   "metadata": {},
   "outputs": [
    {
     "name": "stdout",
     "output_type": "stream",
     "text": [
      "Size:  (1000000, 4) \n",
      "\n",
      "Basic info\n",
      "<class 'pandas.core.frame.DataFrame'>\n",
      "RangeIndex: 1000000 entries, 0 to 999999\n",
      "Data columns (total 4 columns):\n",
      " #   Column                 Non-Null Count    Dtype \n",
      "---  ------                 --------------    ----- \n",
      " 0   Session_ID             1000000 non-null  object\n",
      " 1   Variant_ID             1000000 non-null  int64 \n",
      " 2   Conversion             1000000 non-null  int64 \n",
      " 3   Characters_Translated  1000000 non-null  int64 \n",
      "dtypes: int64(3), object(1)\n",
      "memory usage: 30.5+ MB\n",
      "None \n",
      "\n"
     ]
    }
   ],
   "source": [
    "print('Size: ', df.shape, '\\n')\n",
    "\n",
    "print('Basic info')\n",
    "print(df.info(), '\\n')"
   ]
  },
  {
   "cell_type": "markdown",
   "id": "focal-victor",
   "metadata": {},
   "source": [
    "Session_ID is not a user ID, all unique. If we had User_ID instead, it would be of big interest to look at the\n",
    "duplicates, i.e. how conversion depends on number of sessions and translated characters."
   ]
  },
  {
   "cell_type": "code",
   "execution_count": 4,
   "id": "seven-retreat",
   "metadata": {},
   "outputs": [
    {
     "data": {
      "text/plain": [
       "{1}"
      ]
     },
     "execution_count": 4,
     "metadata": {},
     "output_type": "execute_result"
    }
   ],
   "source": [
    "# Session_ID is not a user ID, all unique.\n",
    "set(df.Session_ID.value_counts().tolist())"
   ]
  },
  {
   "cell_type": "markdown",
   "id": "modular-racing",
   "metadata": {},
   "source": [
    "### Number of translated characters"
   ]
  },
  {
   "cell_type": "markdown",
   "id": "contemporary-niagara",
   "metadata": {},
   "source": [
    "Let us look at the number of translated characters."
   ]
  },
  {
   "cell_type": "code",
   "execution_count": 5,
   "id": "crucial-carry",
   "metadata": {},
   "outputs": [
    {
     "data": {
      "text/html": [
       "<style  type=\"text/css\" >\n",
       "</style><table id=\"T_aaa43_\" ><thead>    <tr>        <th class=\"col_heading level0 col0\" >Version</th>        <th class=\"col_heading level0 col1\" >Conversion</th>        <th class=\"col_heading level0 col2\" >Num_Sessions</th>        <th class=\"col_heading level0 col3\" >Avg_Characters_Translated</th>        <th class=\"col_heading level0 col4\" >Std_Characters_Translated</th>    </tr></thead><tbody>\n",
       "                <tr>\n",
       "                                <td id=\"T_aaa43_row0_col0\" class=\"data row0 col0\" >0</td>\n",
       "                        <td id=\"T_aaa43_row0_col1\" class=\"data row0 col1\" >0</td>\n",
       "                        <td id=\"T_aaa43_row0_col2\" class=\"data row0 col2\" >494584</td>\n",
       "                        <td id=\"T_aaa43_row0_col3\" class=\"data row0 col3\" >377.485634</td>\n",
       "                        <td id=\"T_aaa43_row0_col4\" class=\"data row0 col4\" >4581.837332</td>\n",
       "            </tr>\n",
       "            <tr>\n",
       "                                <td id=\"T_aaa43_row1_col0\" class=\"data row1 col0\" >0</td>\n",
       "                        <td id=\"T_aaa43_row1_col1\" class=\"data row1 col1\" >1</td>\n",
       "                        <td id=\"T_aaa43_row1_col2\" class=\"data row1 col2\" >5444</td>\n",
       "                        <td id=\"T_aaa43_row1_col3\" class=\"data row1 col3\" >394.949486</td>\n",
       "                        <td id=\"T_aaa43_row1_col4\" class=\"data row1 col4\" >2368.599878</td>\n",
       "            </tr>\n",
       "    </tbody></table>"
      ],
      "text/plain": [
       "<pandas.io.formats.style.Styler at 0x7f540ce73970>"
      ]
     },
     "execution_count": 5,
     "metadata": {},
     "output_type": "execute_result"
    }
   ],
   "source": [
    "# Control group \n",
    "\n",
    "df_A = df[df.Variant_ID==0]\n",
    "\n",
    "num_sessions = df_A.Conversion.value_counts()\n",
    "avg_char = df_A.groupby('Conversion').Characters_Translated.mean()\n",
    "std_char = df_A.groupby('Conversion').Characters_Translated.std()\n",
    "\n",
    "df_A_obs = {'Version':[0,0], 'Conversion':[0, 1], 'Num_Sessions':[num_sessions[0], num_sessions[1]],\n",
    "          'Avg_Characters_Translated':[avg_char[0],avg_char[1]],\n",
    "          'Std_Characters_Translated':[std_char[0],std_char[1]]}\n",
    "df_A_obs = pd.DataFrame(df_A_obs)\n",
    "\n",
    "df_A_obs.style.hide_index()"
   ]
  },
  {
   "cell_type": "code",
   "execution_count": 6,
   "id": "official-crime",
   "metadata": {},
   "outputs": [
    {
     "data": {
      "text/html": [
       "<style  type=\"text/css\" >\n",
       "</style><table id=\"T_0863f_\" ><thead>    <tr>        <th class=\"col_heading level0 col0\" >Version</th>        <th class=\"col_heading level0 col1\" >Conversion</th>        <th class=\"col_heading level0 col2\" >Num_Sessions</th>        <th class=\"col_heading level0 col3\" >Avg_Characters_Translated</th>        <th class=\"col_heading level0 col4\" >Std_Characters_Translated</th>    </tr></thead><tbody>\n",
       "                <tr>\n",
       "                                <td id=\"T_0863f_row0_col0\" class=\"data row0 col0\" >1</td>\n",
       "                        <td id=\"T_0863f_row0_col1\" class=\"data row0 col1\" >0</td>\n",
       "                        <td id=\"T_0863f_row0_col2\" class=\"data row0 col2\" >494351</td>\n",
       "                        <td id=\"T_0863f_row0_col3\" class=\"data row0 col3\" >337.540584</td>\n",
       "                        <td id=\"T_0863f_row0_col4\" class=\"data row0 col4\" >2236.503086</td>\n",
       "            </tr>\n",
       "            <tr>\n",
       "                                <td id=\"T_0863f_row1_col0\" class=\"data row1 col0\" >1</td>\n",
       "                        <td id=\"T_0863f_row1_col1\" class=\"data row1 col1\" >1</td>\n",
       "                        <td id=\"T_0863f_row1_col2\" class=\"data row1 col2\" >5621</td>\n",
       "                        <td id=\"T_0863f_row1_col3\" class=\"data row1 col3\" >338.139121</td>\n",
       "                        <td id=\"T_0863f_row1_col4\" class=\"data row1 col4\" >1993.110579</td>\n",
       "            </tr>\n",
       "    </tbody></table>"
      ],
      "text/plain": [
       "<pandas.io.formats.style.Styler at 0x7f540ce73a90>"
      ]
     },
     "execution_count": 6,
     "metadata": {},
     "output_type": "execute_result"
    }
   ],
   "source": [
    "# Test group \n",
    "\n",
    "df_B = df[df.Variant_ID==1]\n",
    "\n",
    "num_sessions = df_B.Conversion.value_counts()\n",
    "avg_char = df_B.groupby('Conversion').Characters_Translated.mean()\n",
    "std_char = df_B.groupby('Conversion').Characters_Translated.std()\n",
    "\n",
    "df_B_obs = {'Version':[1,1], 'Conversion':[0, 1], 'Num_Sessions':[num_sessions[0], num_sessions[1]],\n",
    "          'Avg_Characters_Translated':[avg_char[0],avg_char[1]],\n",
    "          'Std_Characters_Translated':[std_char[0],std_char[1]]}\n",
    "df_B_obs = pd.DataFrame(df_B_obs)\n",
    "\n",
    "df_B_obs.style.hide_index()"
   ]
  },
  {
   "cell_type": "code",
   "execution_count": 7,
   "id": "treated-artist",
   "metadata": {},
   "outputs": [
    {
     "data": {
      "text/plain": [
       "count    9.889350e+05\n",
       "mean     3.575178e+02\n",
       "std      3.605532e+03\n",
       "min      0.000000e+00\n",
       "25%      9.000000e+00\n",
       "50%      4.600000e+01\n",
       "75%      1.940000e+02\n",
       "max      2.328264e+06\n",
       "Name: Characters_Translated, dtype: float64"
      ]
     },
     "execution_count": 7,
     "metadata": {},
     "output_type": "execute_result"
    }
   ],
   "source": [
    "df[df.Conversion==0].Characters_Translated.describe()"
   ]
  },
  {
   "cell_type": "code",
   "execution_count": 8,
   "id": "alternative-shift",
   "metadata": {},
   "outputs": [
    {
     "data": {
      "text/plain": [
       "count     11065.000000\n",
       "mean        366.089923\n",
       "std        2186.012537\n",
       "min           0.000000\n",
       "25%           8.000000\n",
       "50%          45.000000\n",
       "75%         188.000000\n",
       "max      115207.000000\n",
       "Name: Characters_Translated, dtype: float64"
      ]
     },
     "execution_count": 8,
     "metadata": {},
     "output_type": "execute_result"
    }
   ],
   "source": [
    "df[df.Conversion==1].Characters_Translated.describe()"
   ]
  },
  {
   "cell_type": "code",
   "execution_count": 9,
   "id": "molecular-theology",
   "metadata": {},
   "outputs": [
    {
     "data": {
      "image/png": "[encoded data removed]",
      "text/plain": [
       "<Figure size 432x504 with 1 Axes>"
      ]
     },
     "metadata": {},
     "output_type": "display_data"
    }
   ],
   "source": [
    "# without outliers\n",
    "\n",
    "_, axes = plt.subplots(1, 1, sharey=True, figsize=(6, 7))\n",
    "plt.suptitle('w/o outliers')\n",
    "sns.boxplot(x = 'Conversion', y='Characters_Translated', data=df, showfliers=False);"
   ]
  },
  {
   "cell_type": "code",
   "execution_count": 10,
   "id": "humanitarian-mother",
   "metadata": {},
   "outputs": [
    {
     "data": {
      "image/png": "[encoded data removed]",
      "text/plain": [
       "<Figure size 432x504 with 1 Axes>"
      ]
     },
     "metadata": {},
     "output_type": "display_data"
    }
   ],
   "source": [
    "# with outliers\n",
    "\n",
    "_, axes = plt.subplots(1,1, sharey=True, figsize=(6, 7))\n",
    "plt.suptitle('w/ outliers')\n",
    "sns.boxplot(x='Conversion', y='Characters_Translated', data=df, showfliers=True);\n"
   ]
  },
  {
   "cell_type": "code",
   "execution_count": 11,
   "id": "voluntary-convertible",
   "metadata": {
    "scrolled": true
   },
   "outputs": [
    {
     "data": {
      "text/plain": [
       "<matplotlib.collections.PathCollection at 0x7f540c874550>"
      ]
     },
     "execution_count": 11,
     "metadata": {},
     "output_type": "execute_result"
    },
    {
     "data": {
      "image/png": "[encoded data removed]",
      "text/plain": [
       "<Figure size 432x288 with 1 Axes>"
      ]
     },
     "metadata": {},
     "output_type": "display_data"
    }
   ],
   "source": [
    "# Translated characters vs. conversion: control group only\n",
    "\n",
    "X = np.array([[x] for x in df_A.Characters_Translated.tolist()])\n",
    "y = np.array(df_A.Conversion.tolist())\n",
    "plt.scatter(X, y,  color='black')"
   ]
  },
  {
   "cell_type": "code",
   "execution_count": 12,
   "id": "explicit-thirty",
   "metadata": {},
   "outputs": [
    {
     "data": {
      "text/plain": [
       "<matplotlib.collections.PathCollection at 0x7f540c7a1c10>"
      ]
     },
     "execution_count": 12,
     "metadata": {},
     "output_type": "execute_result"
    },
    {
     "data": {
      "image/png": "[encoded data removed]",
      "text/plain": [
       "<Figure size 432x288 with 1 Axes>"
      ]
     },
     "metadata": {},
     "output_type": "display_data"
    }
   ],
   "source": [
    "# Translated characters vs. conversion: test group only\n",
    "\n",
    "X = np.array([[x] for x in df_B.Characters_Translated.tolist()])\n",
    "y = np.array(df_B.Conversion.tolist())\n",
    "plt.scatter(X, y,  color='black')"
   ]
  },
  {
   "cell_type": "markdown",
   "id": "political-birth",
   "metadata": {},
   "source": [
    "### Conclusion\n",
    "\n",
    "There is an explicit set of outliers. The outliers represent a group with the big and huge amount of translated characters. I suppose that these users are not interested in subscribing at all, they probably need to translate a big document once (or several times) so they use a free trial period. \n",
    "\n",
    "I know that the free translation is limited by 5000 characters, so in this dataset it is a question for me how those users without subscription can translate more then 100k symbols (and even 600k). I suppose that a free trial period isn't counted as conversion, so my assumption makes sense.\n",
    "\n",
    "However, to test this hypothesis I would need more data: user_id column is missing. \n",
    "\n",
    "Let us perform the analyzis for both cases, assuming first that the hypothesis is false and keeping the outliers."
   ]
  },
  {
   "cell_type": "markdown",
   "id": "complicated-elephant",
   "metadata": {},
   "source": [
    "# Analyzis with outliers\n",
    "\n",
    "Since there is not enough information, we suppose that the outliers do not represent the noise and consider them as part of the data."
   ]
  },
  {
   "cell_type": "markdown",
   "id": "centered-rental",
   "metadata": {},
   "source": [
    "### Conversion"
   ]
  },
  {
   "cell_type": "code",
   "execution_count": 13,
   "id": "verbal-archives",
   "metadata": {},
   "outputs": [
    {
     "data": {
      "text/html": [
       "<style  type=\"text/css\" >\n",
       "</style><table id=\"T_0b37a_\" ><thead>    <tr>        <th class=\"col_heading level0 col0\" >Version</th>        <th class=\"col_heading level0 col1\" >Num_Sessions</th>        <th class=\"col_heading level0 col2\" >Converted</th>        <th class=\"col_heading level0 col3\" >Not_Converted</th>    </tr></thead><tbody>\n",
       "                <tr>\n",
       "                                <td id=\"T_0b37a_row0_col0\" class=\"data row0 col0\" >0</td>\n",
       "                        <td id=\"T_0b37a_row0_col1\" class=\"data row0 col1\" >500028</td>\n",
       "                        <td id=\"T_0b37a_row0_col2\" class=\"data row0 col2\" >5444</td>\n",
       "                        <td id=\"T_0b37a_row0_col3\" class=\"data row0 col3\" >494584</td>\n",
       "            </tr>\n",
       "            <tr>\n",
       "                                <td id=\"T_0b37a_row1_col0\" class=\"data row1 col0\" >1</td>\n",
       "                        <td id=\"T_0b37a_row1_col1\" class=\"data row1 col1\" >499972</td>\n",
       "                        <td id=\"T_0b37a_row1_col2\" class=\"data row1 col2\" >5621</td>\n",
       "                        <td id=\"T_0b37a_row1_col3\" class=\"data row1 col3\" >494351</td>\n",
       "            </tr>\n",
       "    </tbody></table>"
      ],
      "text/plain": [
       "<pandas.io.formats.style.Styler at 0x7f54060f5c70>"
      ]
     },
     "execution_count": 13,
     "metadata": {},
     "output_type": "execute_result"
    }
   ],
   "source": [
    "# Summarize the data\n",
    "\n",
    "num_sessions = df.Variant_ID.value_counts()\n",
    "converted_obs = df.groupby('Variant_ID').Conversion.sum()\n",
    "\n",
    "df_obs = {'Version':[0, 1], 'Num_Sessions':[num_sessions[0], num_sessions[1]],\n",
    "      'Converted':[converted_obs[0],converted_obs[1]]}\n",
    "df_obs = pd.DataFrame(df_obs)\n",
    "df_obs['Not_Converted'] = df_obs.Num_Sessions - df_obs.Converted\n",
    "\n",
    "df_obs.style.hide_index()"
   ]
  },
  {
   "cell_type": "markdown",
   "id": "quantitative-devil",
   "metadata": {},
   "source": [
    "We would like to see whether the \"Conversion\" depends on \"Version\". The null and the alternative hypothesis are:\n",
    "\n",
    "$H_0$: the CR is the same for both versions,\n",
    "\n",
    "$H_a$: the CR is higher for the version 1.\n",
    "\n",
    "To test the results for significance, we perform [Pearson's chi-squared test](https://en.wikipedia.org/wiki/Pearson%27s_chi-squared_test) - \"a test of independence assesses whether observations consisting of measures on two variables, expressed in a contingency table, are independent of each other\".\n",
    "\n",
    "The procedure is based on the [Pearson's theorem](https://ocw.mit.edu/courses/mathematics/18-443-statistics-for-applications-fall-2003/lecture-notes/lec23.pdf) and can be summarized as follows:\n",
    "- calculate the chi-squared test statistic, which is a normalized sum of squared deviations between observed and theoretical (estimated) frequencies $\\chi^2 = \\sum\\limits_i\\dfrac{(O_i-E_i)^2}{E_i}$;\n",
    "- under the null hypothesis it converges in distribution to chi-square distribution with 1 (in our case) degree of freedom;\n",
    "- calculate the $p$-value which encodes how likely is it to get the observed results if the null hypothesis $H_0$ is true; \n",
    "- choose a confidence interval and compare it with the $p$-value; based on this one can judge whether the null hypothesis can be rejected."
   ]
  },
  {
   "cell_type": "markdown",
   "id": "outer-thailand",
   "metadata": {},
   "source": [
    "Luckily, this procedure is implemented in scipy.stats package."
   ]
  },
  {
   "cell_type": "code",
   "execution_count": 14,
   "id": "junior-climate",
   "metadata": {},
   "outputs": [
    {
     "name": "stdout",
     "output_type": "stream",
     "text": [
      "0.08951239802494876\n"
     ]
    }
   ],
   "source": [
    "cont_table_observed = np.array([df_obs.Converted.tolist(), df_obs.Not_Converted.tolist()]).T\n",
    "test_result = chi2_contingency(cont_table_observed,correction=False)\n",
    "p_val = test_result[1]\n",
    "print(p_val)"
   ]
  },
  {
   "cell_type": "code",
   "execution_count": 15,
   "id": "altered-possible",
   "metadata": {},
   "outputs": [
    {
     "data": {
      "image/png": "[encoded data removed]",
      "text/plain": [
       "<Figure size 432x288 with 1 Axes>"
      ]
     },
     "metadata": {},
     "output_type": "display_data"
    }
   ],
   "source": [
    "test_statistic = test_result[0]\n",
    "\n",
    "x = np.arange(0, 5, 0.1)\n",
    "plt.plot(x, chi2.pdf(x, df=1))\n",
    "plt.fill_between(x[x>test_statistic], chi2.pdf(x[x>test_statistic], df=1))\n",
    "plt.show()"
   ]
  },
  {
   "cell_type": "markdown",
   "id": "intense-circumstances",
   "metadata": {},
   "source": [
    "### Conclusion\n",
    "\n",
    "We see that with the standard 95% confidence interval, the observed data are not statistically significant and the Null hypothesis cannot be rejected (the $p$-value p > 0.05)."
   ]
  },
  {
   "cell_type": "markdown",
   "id": "welsh-incidence",
   "metadata": {},
   "source": [
    "### Number of translated charachters\n"
   ]
  },
  {
   "cell_type": "code",
   "execution_count": 16,
   "id": "empty-central",
   "metadata": {},
   "outputs": [
    {
     "data": {
      "text/html": [
       "<div>\n",
       "<style scoped>\n",
       "    .dataframe tbody tr th:only-of-type {\n",
       "        vertical-align: middle;\n",
       "    }\n",
       "\n",
       "    .dataframe tbody tr th {\n",
       "        vertical-align: top;\n",
       "    }\n",
       "\n",
       "    .dataframe thead th {\n",
       "        text-align: right;\n",
       "    }\n",
       "</style>\n",
       "<table border=\"1\" class=\"dataframe\">\n",
       "  <thead>\n",
       "    <tr style=\"text-align: right;\">\n",
       "      <th></th>\n",
       "      <th>Session_ID</th>\n",
       "      <th>Variant_ID</th>\n",
       "      <th>Conversion</th>\n",
       "      <th>Characters_Translated</th>\n",
       "    </tr>\n",
       "  </thead>\n",
       "  <tbody>\n",
       "    <tr>\n",
       "      <th>0</th>\n",
       "      <td>MSLAOFLDF</td>\n",
       "      <td>1</td>\n",
       "      <td>0</td>\n",
       "      <td>725</td>\n",
       "    </tr>\n",
       "    <tr>\n",
       "      <th>1</th>\n",
       "      <td>UGUAXDOAT</td>\n",
       "      <td>1</td>\n",
       "      <td>0</td>\n",
       "      <td>66</td>\n",
       "    </tr>\n",
       "    <tr>\n",
       "      <th>2</th>\n",
       "      <td>FLKCLRVYV</td>\n",
       "      <td>0</td>\n",
       "      <td>0</td>\n",
       "      <td>11</td>\n",
       "    </tr>\n",
       "    <tr>\n",
       "      <th>3</th>\n",
       "      <td>QJXUYKXRI</td>\n",
       "      <td>0</td>\n",
       "      <td>0</td>\n",
       "      <td>209</td>\n",
       "    </tr>\n",
       "    <tr>\n",
       "      <th>4</th>\n",
       "      <td>SIHLAZXVF</td>\n",
       "      <td>0</td>\n",
       "      <td>0</td>\n",
       "      <td>1</td>\n",
       "    </tr>\n",
       "  </tbody>\n",
       "</table>\n",
       "</div>"
      ],
      "text/plain": [
       "  Session_ID  Variant_ID  Conversion  Characters_Translated\n",
       "0  MSLAOFLDF           1           0                    725\n",
       "1  UGUAXDOAT           1           0                     66\n",
       "2  FLKCLRVYV           0           0                     11\n",
       "3  QJXUYKXRI           0           0                    209\n",
       "4  SIHLAZXVF           0           0                      1"
      ]
     },
     "execution_count": 16,
     "metadata": {},
     "output_type": "execute_result"
    }
   ],
   "source": [
    "df.head()"
   ]
  },
  {
   "cell_type": "code",
   "execution_count": 17,
   "id": "norman-stand",
   "metadata": {},
   "outputs": [
    {
     "data": {
      "text/html": [
       "<style  type=\"text/css\" >\n",
       "</style><table id=\"T_8ea2e_\" ><thead>    <tr>        <th class=\"col_heading level0 col0\" >Version</th>        <th class=\"col_heading level0 col1\" >Num_Sessions</th>        <th class=\"col_heading level0 col2\" >Avg_Characters_Translated</th>        <th class=\"col_heading level0 col3\" >Std_Characters_Translated</th>    </tr></thead><tbody>\n",
       "                <tr>\n",
       "                                <td id=\"T_8ea2e_row0_col0\" class=\"data row0 col0\" >0</td>\n",
       "                        <td id=\"T_8ea2e_row0_col1\" class=\"data row0 col1\" >500028</td>\n",
       "                        <td id=\"T_8ea2e_row0_col2\" class=\"data row0 col2\" >377.675770</td>\n",
       "                        <td id=\"T_8ea2e_row0_col3\" class=\"data row0 col3\" >4563.523276</td>\n",
       "            </tr>\n",
       "            <tr>\n",
       "                                <td id=\"T_8ea2e_row1_col0\" class=\"data row1 col0\" >1</td>\n",
       "                        <td id=\"T_8ea2e_row1_col1\" class=\"data row1 col1\" >499972</td>\n",
       "                        <td id=\"T_8ea2e_row1_col2\" class=\"data row1 col2\" >337.547313</td>\n",
       "                        <td id=\"T_8ea2e_row1_col3\" class=\"data row1 col3\" >2233.912329</td>\n",
       "            </tr>\n",
       "    </tbody></table>"
      ],
      "text/plain": [
       "<pandas.io.formats.style.Styler at 0x7f540ca81640>"
      ]
     },
     "execution_count": 17,
     "metadata": {},
     "output_type": "execute_result"
    }
   ],
   "source": [
    "# Summarize the data\n",
    "\n",
    "num_sessions = df.Variant_ID.value_counts()\n",
    "avg_char = df.groupby('Variant_ID').Characters_Translated.mean()\n",
    "std_char = df.groupby('Variant_ID').Characters_Translated.std()\n",
    "\n",
    "df_obs = {'Version':[0, 1], 'Num_Sessions':[num_sessions[0], num_sessions[1]],\n",
    "          'Avg_Characters_Translated':[avg_char[0],avg_char[1]],\n",
    "          'Std_Characters_Translated':[std_char[0],std_char[1]]}\n",
    "df_obs = pd.DataFrame(df_obs)\n",
    "\n",
    "df_obs.style.hide_index()"
   ]
  },
  {
   "cell_type": "markdown",
   "id": "advanced-construction",
   "metadata": {},
   "source": [
    "Here we would like to test the null hypothesis\n",
    "\n",
    "$H_0$: the average number of translated characters is the same for version 0 and 1; and the alternative is\n",
    "\n",
    "$H_a$: the average number of translated characters is greater for version 0 than 1.\n",
    "\n",
    "Since we are dealing with very big sample size, and the outcome is a continues r.v., it is straightforward to implement the $Z$-test. \n",
    "\n",
    "The CLT claims, that under the null hypothesis $Z = \\dfrac{\\mu_0-\\mu_1}{\\sqrt{\\dfrac{\\sigma_0^2}{n_0} + \\dfrac{\\sigma_1^2}{n_1}}} \\to \\mathcal{N}(0,1)$\n",
    "\n",
    "Let's calculate the $Z$-statistic and the corresponding $p$-value"
   ]
  },
  {
   "cell_type": "code",
   "execution_count": 18,
   "id": "musical-retirement",
   "metadata": {},
   "outputs": [
    {
     "name": "stdout",
     "output_type": "stream",
     "text": [
      "Z-score: 5.584695954384107\n",
      "p-value: 1.1705471007470975e-08\n"
     ]
    }
   ],
   "source": [
    "def Z_test_two_sample(mean, std, n, test = 'right'):\n",
    "    \n",
    "    Z = (mean[1] - mean[0])/np.sqrt(std[0]**2/n[0] + std[1]**2/n[1])\n",
    "    if test == 'left':\n",
    "        Z=-Z\n",
    "    p_val = norm.sf(Z)\n",
    "    if test == 'two_sided':\n",
    "        p_val=p_val*2\n",
    "        \n",
    "    return Z, p_val\n",
    "\n",
    "mean = df_obs.Avg_Characters_Translated.tolist()\n",
    "std = df_obs.Std_Characters_Translated.tolist()\n",
    "sample_size = df_obs.Num_Sessions.tolist()\n",
    "\n",
    "Z, p_val = Z_test_two_sample(mean, std, sample_size, 'left')\n",
    "\n",
    "print(\"Z-score: {0}\\np-value: {1}\".format(Z, p_val))"
   ]
  },
  {
   "cell_type": "markdown",
   "id": "tested-moment",
   "metadata": {},
   "source": [
    "### Conclusion\n",
    "\n",
    "The $p$-value is very small, so the Null hypothesis is rejected and one can claim that on average the number of translated symbols is greater for the version 0.\n"
   ]
  },
  {
   "cell_type": "markdown",
   "id": "strange-directory",
   "metadata": {},
   "source": [
    "### Number of translated characters vs. Conversion\n",
    "\n",
    "One can assume, that there is correlation between number of characters and conversion, i.e., users who translate less do not convert. If so, this ends up in filtering the data which reduces computational time and reduce noise. Let us investigate this question in more details."
   ]
  },
  {
   "cell_type": "markdown",
   "id": "grateful-copper",
   "metadata": {},
   "source": [
    "We see that there is no such a big difference. Let us test this hypotheis.\n",
    "\n",
    "We perform the Z-test:\n",
    "\n",
    "$H_0$: Converted and non-converted users translate the same amount of characters on average"
   ]
  },
  {
   "cell_type": "code",
   "execution_count": 19,
   "id": "running-nurse",
   "metadata": {},
   "outputs": [
    {
     "name": "stdout",
     "output_type": "stream",
     "text": [
      "Z-score: 0.533141805272148\n",
      "p-value: 0.2969677110199322\n"
     ]
    }
   ],
   "source": [
    "# control group\n",
    "\n",
    "mean = df_A_obs.Avg_Characters_Translated.tolist()\n",
    "std = df_A_obs.Std_Characters_Translated.tolist()\n",
    "sample_size = df_A_obs.Num_Sessions.tolist()\n",
    "\n",
    "Z, p_val = Z_test_two_sample(mean, std, sample_size, 'right')\n",
    "\n",
    "print(\"Z-score: {0}\\np-value: {1}\".format(Z, p_val))"
   ]
  },
  {
   "cell_type": "code",
   "execution_count": 20,
   "id": "initial-portal",
   "metadata": {},
   "outputs": [
    {
     "name": "stdout",
     "output_type": "stream",
     "text": [
      "Z-score: 0.022355273976680815\n",
      "p-value: 0.4910822788110893\n"
     ]
    }
   ],
   "source": [
    "# test group\n",
    "\n",
    "mean = df_B_obs.Avg_Characters_Translated.tolist()\n",
    "std = df_B_obs.Std_Characters_Translated.tolist()\n",
    "sample_size = df_B_obs.Num_Sessions.tolist()\n",
    "\n",
    "Z, p_val = Z_test_two_sample(mean, std, sample_size, 'right')\n",
    "\n",
    "print(\"Z-score: {0}\\np-value: {1}\".format(Z, p_val))"
   ]
  },
  {
   "cell_type": "markdown",
   "id": "spatial-russell",
   "metadata": {},
   "source": [
    "### Conclusion\n",
    "\n",
    "The p-values are within the confidence interval and we cannot reject the null hypothesis.\n"
   ]
  },
  {
   "cell_type": "markdown",
   "id": "nearby-hacker",
   "metadata": {},
   "source": [
    "## Discussion\n",
    "\n",
    "Analyzis shows that there is no significant evidence to choose one version over another one. \n",
    "\n",
    "Let us perform the same analysis with the outliers removed."
   ]
  },
  {
   "cell_type": "markdown",
   "id": "several-scope",
   "metadata": {},
   "source": [
    "# Analyzis without outliers\n",
    "\n",
    "Since there is not enough information, we suppose that the outliers represent the users who are interested in translating a single document (they might sign up for a free trial and then cancel the subscription). I also assume that the free trial period is not counted as conversion.\n",
    "\n",
    "Assume that the hypothesis is true and remove the outliers since they represent the noise."
   ]
  },
  {
   "cell_type": "markdown",
   "id": "romance-techno",
   "metadata": {},
   "source": [
    "### Remove the outliers\n",
    "\n",
    "To remove the outliers we use 1.5 IQR rule.\n",
    "\n",
    "Of course this will remove a lot of converted sessions, so another option would be to play with the threshold. However, let us leave this outside of this assignment."
   ]
  },
  {
   "cell_type": "code",
   "execution_count": 21,
   "id": "pointed-pressing",
   "metadata": {},
   "outputs": [],
   "source": [
    "Q1 = df.Characters_Translated.quantile(0.25)\n",
    "Q3 = df.Characters_Translated.quantile(0.75)\n",
    "IQR = Q3 - Q1\n",
    "\n",
    "df_clean = df[df.Characters_Translated < Q3+1.5*IQR]"
   ]
  },
  {
   "cell_type": "code",
   "execution_count": 22,
   "id": "charitable-migration",
   "metadata": {},
   "outputs": [
    {
     "data": {
      "text/plain": [
       "count    9696.000000\n",
       "mean       78.325083\n",
       "std       104.275212\n",
       "min         0.000000\n",
       "25%         7.000000\n",
       "50%        31.000000\n",
       "75%       108.000000\n",
       "max       471.000000\n",
       "Name: Characters_Translated, dtype: float64"
      ]
     },
     "execution_count": 22,
     "metadata": {},
     "output_type": "execute_result"
    }
   ],
   "source": [
    "df_clean[df_clean.Conversion==1].Characters_Translated.describe()"
   ]
  },
  {
   "cell_type": "markdown",
   "id": "experimental-joint",
   "metadata": {},
   "source": [
    "Now, let us repeat the analyzis performed above."
   ]
  },
  {
   "cell_type": "markdown",
   "id": "according-communication",
   "metadata": {},
   "source": [
    "### Conversion"
   ]
  },
  {
   "cell_type": "code",
   "execution_count": 23,
   "id": "hidden-officer",
   "metadata": {},
   "outputs": [],
   "source": [
    "df = df_clean.copy()"
   ]
  },
  {
   "cell_type": "code",
   "execution_count": 24,
   "id": "periodic-return",
   "metadata": {},
   "outputs": [
    {
     "data": {
      "text/html": [
       "<style  type=\"text/css\" >\n",
       "</style><table id=\"T_ca0d8_\" ><thead>    <tr>        <th class=\"col_heading level0 col0\" >Version</th>        <th class=\"col_heading level0 col1\" >Num_Sessions</th>        <th class=\"col_heading level0 col2\" >Converted</th>        <th class=\"col_heading level0 col3\" >Not_Converted</th>    </tr></thead><tbody>\n",
       "                <tr>\n",
       "                                <td id=\"T_ca0d8_row0_col0\" class=\"data row0 col0\" >0</td>\n",
       "                        <td id=\"T_ca0d8_row0_col1\" class=\"data row0 col1\" >434365</td>\n",
       "                        <td id=\"T_ca0d8_row0_col2\" class=\"data row0 col2\" >4762</td>\n",
       "                        <td id=\"T_ca0d8_row0_col3\" class=\"data row0 col3\" >429603</td>\n",
       "            </tr>\n",
       "            <tr>\n",
       "                                <td id=\"T_ca0d8_row1_col0\" class=\"data row1 col0\" >1</td>\n",
       "                        <td id=\"T_ca0d8_row1_col1\" class=\"data row1 col1\" >438948</td>\n",
       "                        <td id=\"T_ca0d8_row1_col2\" class=\"data row1 col2\" >4934</td>\n",
       "                        <td id=\"T_ca0d8_row1_col3\" class=\"data row1 col3\" >434014</td>\n",
       "            </tr>\n",
       "    </tbody></table>"
      ],
      "text/plain": [
       "<pandas.io.formats.style.Styler at 0x7f540d0eb610>"
      ]
     },
     "execution_count": 24,
     "metadata": {},
     "output_type": "execute_result"
    }
   ],
   "source": [
    "# Summarize the data\n",
    "\n",
    "num_sessions = df.Variant_ID.value_counts()\n",
    "converted_obs = df.groupby('Variant_ID').Conversion.sum()\n",
    "\n",
    "df_obs = {'Version':[0, 1], 'Num_Sessions':[num_sessions[0], num_sessions[1]],\n",
    "      'Converted':[converted_obs[0],converted_obs[1]]}\n",
    "df_obs = pd.DataFrame(df_obs)\n",
    "df_obs['Not_Converted'] = df_obs.Num_Sessions - df_obs.Converted\n",
    "\n",
    "df_obs.style.hide_index()"
   ]
  },
  {
   "cell_type": "code",
   "execution_count": 25,
   "id": "adjustable-minutes",
   "metadata": {},
   "outputs": [
    {
     "name": "stdout",
     "output_type": "stream",
     "text": [
      "0.21611930873485474\n"
     ]
    }
   ],
   "source": [
    "cont_table_observed = np.array([df_obs.Converted.tolist(), df_obs.Not_Converted.tolist()]).T\n",
    "test_result = chi2_contingency(cont_table_observed,correction=False)\n",
    "p_val = test_result[1]\n",
    "print(p_val)"
   ]
  },
  {
   "cell_type": "code",
   "execution_count": 26,
   "id": "designing-retirement",
   "metadata": {},
   "outputs": [
    {
     "data": {
      "image/png": "[encoded data removed]",
      "text/plain": [
       "<Figure size 432x288 with 1 Axes>"
      ]
     },
     "metadata": {},
     "output_type": "display_data"
    }
   ],
   "source": [
    "test_statistic = test_result[0]\n",
    "\n",
    "x = np.arange(0, 5, 0.1)\n",
    "plt.plot(x, chi2.pdf(x, df=1))\n",
    "plt.fill_between(x[x>test_statistic], chi2.pdf(x[x>test_statistic], df=1))\n",
    "plt.show()"
   ]
  },
  {
   "cell_type": "markdown",
   "id": "trying-ranch",
   "metadata": {},
   "source": [
    "### Conclusion\n",
    "\n",
    "We see that with the standard 95% confidence interval, the observed data are not statistically significant and the Null hypothesis cannot be rejected (the $p$-value p > 0.05)."
   ]
  },
  {
   "cell_type": "markdown",
   "id": "played-authentication",
   "metadata": {},
   "source": [
    "### Number of translated charachters\n"
   ]
  },
  {
   "cell_type": "code",
   "execution_count": 27,
   "id": "secondary-paintball",
   "metadata": {},
   "outputs": [
    {
     "data": {
      "text/html": [
       "<div>\n",
       "<style scoped>\n",
       "    .dataframe tbody tr th:only-of-type {\n",
       "        vertical-align: middle;\n",
       "    }\n",
       "\n",
       "    .dataframe tbody tr th {\n",
       "        vertical-align: top;\n",
       "    }\n",
       "\n",
       "    .dataframe thead th {\n",
       "        text-align: right;\n",
       "    }\n",
       "</style>\n",
       "<table border=\"1\" class=\"dataframe\">\n",
       "  <thead>\n",
       "    <tr style=\"text-align: right;\">\n",
       "      <th></th>\n",
       "      <th>Session_ID</th>\n",
       "      <th>Variant_ID</th>\n",
       "      <th>Conversion</th>\n",
       "      <th>Characters_Translated</th>\n",
       "    </tr>\n",
       "  </thead>\n",
       "  <tbody>\n",
       "    <tr>\n",
       "      <th>1</th>\n",
       "      <td>UGUAXDOAT</td>\n",
       "      <td>1</td>\n",
       "      <td>0</td>\n",
       "      <td>66</td>\n",
       "    </tr>\n",
       "    <tr>\n",
       "      <th>2</th>\n",
       "      <td>FLKCLRVYV</td>\n",
       "      <td>0</td>\n",
       "      <td>0</td>\n",
       "      <td>11</td>\n",
       "    </tr>\n",
       "    <tr>\n",
       "      <th>3</th>\n",
       "      <td>QJXUYKXRI</td>\n",
       "      <td>0</td>\n",
       "      <td>0</td>\n",
       "      <td>209</td>\n",
       "    </tr>\n",
       "    <tr>\n",
       "      <th>4</th>\n",
       "      <td>SIHLAZXVF</td>\n",
       "      <td>0</td>\n",
       "      <td>0</td>\n",
       "      <td>1</td>\n",
       "    </tr>\n",
       "    <tr>\n",
       "      <th>5</th>\n",
       "      <td>FGJDXOTWQ</td>\n",
       "      <td>1</td>\n",
       "      <td>0</td>\n",
       "      <td>49</td>\n",
       "    </tr>\n",
       "  </tbody>\n",
       "</table>\n",
       "</div>"
      ],
      "text/plain": [
       "  Session_ID  Variant_ID  Conversion  Characters_Translated\n",
       "1  UGUAXDOAT           1           0                     66\n",
       "2  FLKCLRVYV           0           0                     11\n",
       "3  QJXUYKXRI           0           0                    209\n",
       "4  SIHLAZXVF           0           0                      1\n",
       "5  FGJDXOTWQ           1           0                     49"
      ]
     },
     "execution_count": 27,
     "metadata": {},
     "output_type": "execute_result"
    }
   ],
   "source": [
    "df.head()"
   ]
  },
  {
   "cell_type": "code",
   "execution_count": 28,
   "id": "anticipated-leadership",
   "metadata": {},
   "outputs": [
    {
     "data": {
      "text/html": [
       "<style  type=\"text/css\" >\n",
       "</style><table id=\"T_416ba_\" ><thead>    <tr>        <th class=\"col_heading level0 col0\" >Version</th>        <th class=\"col_heading level0 col1\" >Num_Sessions</th>        <th class=\"col_heading level0 col2\" >Avg_Characters_Translated</th>        <th class=\"col_heading level0 col3\" >Std_Characters_Translated</th>    </tr></thead><tbody>\n",
       "                <tr>\n",
       "                                <td id=\"T_416ba_row0_col0\" class=\"data row0 col0\" >0</td>\n",
       "                        <td id=\"T_416ba_row0_col1\" class=\"data row0 col1\" >434365</td>\n",
       "                        <td id=\"T_416ba_row0_col2\" class=\"data row0 col2\" >81.250303</td>\n",
       "                        <td id=\"T_416ba_row0_col3\" class=\"data row0 col3\" >106.223840</td>\n",
       "            </tr>\n",
       "            <tr>\n",
       "                                <td id=\"T_416ba_row1_col0\" class=\"data row1 col0\" >1</td>\n",
       "                        <td id=\"T_416ba_row1_col1\" class=\"data row1 col1\" >438948</td>\n",
       "                        <td id=\"T_416ba_row1_col2\" class=\"data row1 col2\" >78.443984</td>\n",
       "                        <td id=\"T_416ba_row1_col3\" class=\"data row1 col3\" >105.009417</td>\n",
       "            </tr>\n",
       "    </tbody></table>"
      ],
      "text/plain": [
       "<pandas.io.formats.style.Styler at 0x7f5450257b80>"
      ]
     },
     "execution_count": 28,
     "metadata": {},
     "output_type": "execute_result"
    }
   ],
   "source": [
    "# Summarize the data\n",
    "\n",
    "num_sessions = df.Variant_ID.value_counts()\n",
    "avg_char = df.groupby('Variant_ID').Characters_Translated.mean()\n",
    "std_char = df.groupby('Variant_ID').Characters_Translated.std()\n",
    "\n",
    "df_obs = {'Version':[0, 1], 'Num_Sessions':[num_sessions[0], num_sessions[1]],\n",
    "          'Avg_Characters_Translated':[avg_char[0],avg_char[1]],\n",
    "          'Std_Characters_Translated':[std_char[0],std_char[1]]}\n",
    "df_obs = pd.DataFrame(df_obs)\n",
    "\n",
    "df_obs.style.hide_index()"
   ]
  },
  {
   "cell_type": "code",
   "execution_count": 29,
   "id": "lovely-february",
   "metadata": {},
   "outputs": [
    {
     "name": "stdout",
     "output_type": "stream",
     "text": [
      "Z-score: 12.414620650824036\n",
      "p-value: 1.088581638067789e-35\n"
     ]
    }
   ],
   "source": [
    "def Z_test_two_sample(mean, std, n, test = 'right'):\n",
    "    \n",
    "    Z = (mean[1] - mean[0])/np.sqrt(std[0]**2/n[0] + std[1]**2/n[1])\n",
    "    if test == 'left':\n",
    "        Z=-Z\n",
    "    p_val = norm.sf(Z)\n",
    "    if test == 'two_sided':\n",
    "        p_val=p_val*2\n",
    "        \n",
    "    return Z, p_val\n",
    "\n",
    "mean = df_obs.Avg_Characters_Translated.tolist()\n",
    "std = df_obs.Std_Characters_Translated.tolist()\n",
    "sample_size = df_obs.Num_Sessions.tolist()\n",
    "\n",
    "Z, p_val = Z_test_two_sample(mean, std, sample_size, 'left')\n",
    "\n",
    "print(\"Z-score: {0}\\np-value: {1}\".format(Z, p_val))"
   ]
  },
  {
   "cell_type": "markdown",
   "id": "opposite-movie",
   "metadata": {},
   "source": [
    "### Conclusion\n",
    "\n",
    "The $p$-value is very small, so the Null hypothesis is rejected and one can claim that on average the number of translated symbols is greater for the version 0.\n"
   ]
  },
  {
   "cell_type": "markdown",
   "id": "fiscal-contemporary",
   "metadata": {},
   "source": [
    "### Number of translated characters vs. Conversion\n",
    "\n",
    "One can assume, that there is correlation between number of characters and conversion, i.e., users who translate less do not convert. If so, this ends up in filtering the data which reduces computational time and reduce noise. Let us investigate this question in more details."
   ]
  },
  {
   "cell_type": "markdown",
   "id": "harmful-yesterday",
   "metadata": {},
   "source": [
    "We see that there is no such a big difference. Let us test this hypotheis.\n",
    "\n",
    "We perform the Z-test:\n",
    "\n",
    "$H_0$: Converted and non-converted users translate the same amount of characters on average"
   ]
  },
  {
   "cell_type": "code",
   "execution_count": 30,
   "id": "exclusive-injection",
   "metadata": {},
   "outputs": [
    {
     "data": {
      "text/html": [
       "<style  type=\"text/css\" >\n",
       "</style><table id=\"T_46588_\" ><thead>    <tr>        <th class=\"col_heading level0 col0\" >Version</th>        <th class=\"col_heading level0 col1\" >Conversion</th>        <th class=\"col_heading level0 col2\" >Num_Sessions</th>        <th class=\"col_heading level0 col3\" >Avg_Characters_Translated</th>        <th class=\"col_heading level0 col4\" >Std_Characters_Translated</th>    </tr></thead><tbody>\n",
       "                <tr>\n",
       "                                <td id=\"T_46588_row0_col0\" class=\"data row0 col0\" >0</td>\n",
       "                        <td id=\"T_46588_row0_col1\" class=\"data row0 col1\" >0</td>\n",
       "                        <td id=\"T_46588_row0_col2\" class=\"data row0 col2\" >429603</td>\n",
       "                        <td id=\"T_46588_row0_col3\" class=\"data row0 col3\" >81.276993</td>\n",
       "                        <td id=\"T_46588_row0_col4\" class=\"data row0 col4\" >106.247177</td>\n",
       "            </tr>\n",
       "            <tr>\n",
       "                                <td id=\"T_46588_row1_col0\" class=\"data row1 col0\" >0</td>\n",
       "                        <td id=\"T_46588_row1_col1\" class=\"data row1 col1\" >1</td>\n",
       "                        <td id=\"T_46588_row1_col2\" class=\"data row1 col2\" >4762</td>\n",
       "                        <td id=\"T_46588_row1_col3\" class=\"data row1 col3\" >78.842503</td>\n",
       "                        <td id=\"T_46588_row1_col4\" class=\"data row1 col4\" >104.079702</td>\n",
       "            </tr>\n",
       "    </tbody></table>"
      ],
      "text/plain": [
       "<pandas.io.formats.style.Styler at 0x7f540ca7be20>"
      ]
     },
     "execution_count": 30,
     "metadata": {},
     "output_type": "execute_result"
    }
   ],
   "source": [
    "# Control group \n",
    "\n",
    "df_A = df[df.Variant_ID==0]\n",
    "\n",
    "num_sessions = df_A.Conversion.value_counts()\n",
    "avg_char = df_A.groupby('Conversion').Characters_Translated.mean()\n",
    "std_char = df_A.groupby('Conversion').Characters_Translated.std()\n",
    "\n",
    "df_A_obs = {'Version':[0,0], 'Conversion':[0, 1], 'Num_Sessions':[num_sessions[0], num_sessions[1]],\n",
    "          'Avg_Characters_Translated':[avg_char[0],avg_char[1]],\n",
    "          'Std_Characters_Translated':[std_char[0],std_char[1]]}\n",
    "df_A_obs = pd.DataFrame(df_A_obs)\n",
    "\n",
    "df_A_obs.style.hide_index()"
   ]
  },
  {
   "cell_type": "code",
   "execution_count": 31,
   "id": "automated-vertex",
   "metadata": {},
   "outputs": [
    {
     "data": {
      "text/html": [
       "<style  type=\"text/css\" >\n",
       "</style><table id=\"T_75021_\" ><thead>    <tr>        <th class=\"col_heading level0 col0\" >Version</th>        <th class=\"col_heading level0 col1\" >Conversion</th>        <th class=\"col_heading level0 col2\" >Num_Sessions</th>        <th class=\"col_heading level0 col3\" >Avg_Characters_Translated</th>        <th class=\"col_heading level0 col4\" >Std_Characters_Translated</th>    </tr></thead><tbody>\n",
       "                <tr>\n",
       "                                <td id=\"T_75021_row0_col0\" class=\"data row0 col0\" >1</td>\n",
       "                        <td id=\"T_75021_row0_col1\" class=\"data row0 col1\" >0</td>\n",
       "                        <td id=\"T_75021_row0_col2\" class=\"data row0 col2\" >434014</td>\n",
       "                        <td id=\"T_75021_row0_col3\" class=\"data row0 col3\" >78.451013</td>\n",
       "                        <td id=\"T_75021_row0_col4\" class=\"data row0 col4\" >105.015613</td>\n",
       "            </tr>\n",
       "            <tr>\n",
       "                                <td id=\"T_75021_row1_col0\" class=\"data row1 col0\" >1</td>\n",
       "                        <td id=\"T_75021_row1_col1\" class=\"data row1 col1\" >1</td>\n",
       "                        <td id=\"T_75021_row1_col2\" class=\"data row1 col2\" >4934</td>\n",
       "                        <td id=\"T_75021_row1_col3\" class=\"data row1 col3\" >77.825699</td>\n",
       "                        <td id=\"T_75021_row1_col4\" class=\"data row1 col4\" >104.471677</td>\n",
       "            </tr>\n",
       "    </tbody></table>"
      ],
      "text/plain": [
       "<pandas.io.formats.style.Styler at 0x7f540c744160>"
      ]
     },
     "execution_count": 31,
     "metadata": {},
     "output_type": "execute_result"
    }
   ],
   "source": [
    "# Test group \n",
    "\n",
    "df_B = df[df.Variant_ID==1]\n",
    "\n",
    "num_sessions = df_B.Conversion.value_counts()\n",
    "avg_char = df_B.groupby('Conversion').Characters_Translated.mean()\n",
    "std_char = df_B.groupby('Conversion').Characters_Translated.std()\n",
    "\n",
    "df_B_obs = {'Version':[1,1], 'Conversion':[0, 1], 'Num_Sessions':[num_sessions[0], num_sessions[1]],\n",
    "          'Avg_Characters_Translated':[avg_char[0],avg_char[1]],\n",
    "          'Std_Characters_Translated':[std_char[0],std_char[1]]}\n",
    "df_B_obs = pd.DataFrame(df_B_obs)\n",
    "\n",
    "df_B_obs.style.hide_index()"
   ]
  },
  {
   "cell_type": "code",
   "execution_count": 32,
   "id": "answering-reggae",
   "metadata": {},
   "outputs": [
    {
     "name": "stdout",
     "output_type": "stream",
     "text": [
      "Z-score: 1.6048804745567282\n",
      "p-value: 0.05426005565525261\n"
     ]
    }
   ],
   "source": [
    "# Control group\n",
    "\n",
    "mean = df_A_obs.Avg_Characters_Translated.tolist()\n",
    "std = df_A_obs.Std_Characters_Translated.tolist()\n",
    "sample_size = df_A_obs.Num_Sessions.tolist()\n",
    "\n",
    "Z, p_val = Z_test_two_sample(mean, std, sample_size, 'left')\n",
    "\n",
    "print(\"Z-score: {0}\\np-value: {1}\".format(Z, p_val))"
   ]
  },
  {
   "cell_type": "code",
   "execution_count": 33,
   "id": "attempted-detector",
   "metadata": {},
   "outputs": [
    {
     "name": "stdout",
     "output_type": "stream",
     "text": [
      "Z-score: 0.41804104089627725\n",
      "p-value: 0.337958555466499\n"
     ]
    }
   ],
   "source": [
    "# Test group\n",
    "\n",
    "mean = df_B_obs.Avg_Characters_Translated.tolist()\n",
    "std = df_B_obs.Std_Characters_Translated.tolist()\n",
    "sample_size = df_B_obs.Num_Sessions.tolist()\n",
    "\n",
    "Z, p_val = Z_test_two_sample(mean, std, sample_size, 'left')\n",
    "\n",
    "print(\"Z-score: {0}\\np-value: {1}\".format(Z, p_val))"
   ]
  },
  {
   "cell_type": "markdown",
   "id": "vanilla-fabric",
   "metadata": {},
   "source": [
    "### Conclusion\n",
    "\n",
    "The p-values are within the confidence interval and we cannot reject the null hypothesis.\n"
   ]
  },
  {
   "cell_type": "markdown",
   "id": "every-table",
   "metadata": {},
   "source": [
    "# Summary"
   ]
  },
  {
   "cell_type": "markdown",
   "id": "palestinian-riverside",
   "metadata": {},
   "source": [
    "<b> Regardless of presence of outliers </b> , the analyzis shows that there is no significant evidence to choose one version over the other. \n",
    "\n",
    "One has to perform a new experiment with more data (other metrics and information such as user ids).\n",
    "\n",
    "When designing a new experiment, the traffic should be taken into account. It is hard to judge based on the data provided, whether one should wait longer or not. The number of conversions seems to be big enough, so I would suggest to test another version. Before the test one also should prioritize (using heatmap for example) what is relevant for testing."
   ]
  }
 ],
 "metadata": {
  "kernelspec": {
   "display_name": "Python 3",
   "language": "python",
   "name": "python3"
  },
  "language_info": {
   "codemirror_mode": {
    "name": "ipython",
    "version": 3
   },
   "file_extension": ".py",
   "mimetype": "text/x-python",
   "name": "python",
   "nbconvert_exporter": "python",
   "pygments_lexer": "ipython3",
   "version": "3.8.5"
  }
 },
 "nbformat": 4,
 "nbformat_minor": 5
}
